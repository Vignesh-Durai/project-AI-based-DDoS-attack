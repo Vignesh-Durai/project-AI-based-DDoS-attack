{
 "cells": [
  {
   "cell_type": "code",
   "execution_count": null,
   "id": "d7dfe94b",
   "metadata": {
    "vscode": {
     "languageId": "plaintext"
    }
   },
   "outputs": [],
   "source": [
    "a=10\n",
    "b=23\n",
    "print (a+b)"
   ]
  }
 ],
 "metadata": {
  "language_info": {
   "name": "python"
  }
 },
 "nbformat": 4,
 "nbformat_minor": 5
}
